{
 "cells": [
  {
   "cell_type": "markdown",
   "id": "076b7b25",
   "metadata": {},
   "source": [
    "# Data exploration"
   ]
  },
  {
   "cell_type": "code",
   "execution_count": null,
   "id": "ef6aa511",
   "metadata": {},
   "outputs": [],
   "source": []
  },
  {
   "cell_type": "code",
   "execution_count": null,
   "id": "f235dea9",
   "metadata": {},
   "outputs": [],
   "source": [
    "#load library\n",
    "# load library\n",
    "import  sys,os\n",
    "import pandas as pd\n",
    "import numpy as np\n",
    "import matplotlib.pyplot as plt\n",
    "import matplotlib.pyplot as plt\n",
    "import seaborn as sns\n",
    "from scipy import stats\n",
    "import warnings\n",
    "warnings.filterwarnings('ignore')\n",
    "\n"
   ]
  },
  {
   "cell_type": "code",
   "execution_count": null,
   "id": "abc06d49",
   "metadata": {},
   "outputs": [],
   "source": [
    "# load data\n",
    "train_data = read_sql(train_sql)\n",
    "test_data = read_sql(test_sql)\n",
    "user_info = read_sql(user_info_sql).drop_duplicates()\n",
    "user_log = read_sql(user_los_sql).rename(columns = {\"seller_id\" : 'merchant_id'})\n"
   ]
  },
  {
   "cell_type": "markdown",
   "id": "82e5da99",
   "metadata": {},
   "source": [
    "# 查看數據"
   ]
  },
  {
   "cell_type": "markdown",
   "id": "4cb7fd3e",
   "metadata": {},
   "source": [
    "## 查看數據形態和數據大小"
   ]
  },
  {
   "cell_type": "code",
   "execution_count": null,
   "id": "17685831",
   "metadata": {},
   "outputs": [],
   "source": [
    "train_data.head()\n",
    "test_data.head()\n",
    "user_info.head()\n",
    "user_log.head()"
   ]
  },
  {
   "cell_type": "code",
   "execution_count": null,
   "id": "1ba88aa4",
   "metadata": {},
   "outputs": [],
   "source": [
    "train_data.info()\n",
    "user_info.info()\n",
    "user_log.info()\n"
   ]
  },
  {
   "cell_type": "markdown",
   "id": "28cac2dd",
   "metadata": {},
   "source": [
    "## 查看缺失值"
   ]
  },
  {
   "cell_type": "markdown",
   "id": "feb4c8b4",
   "metadata": {},
   "source": [
    "### user_info"
   ]
  },
  {
   "cell_type": "code",
   "execution_count": null,
   "id": "84167e5f",
   "metadata": {},
   "outputs": [],
   "source": [
    "user_info.shape[0]\n",
    "user_info[user_info['age_range'].isna() | user_info['gender'].isna()].count()"
   ]
  },
  {
   "cell_type": "markdown",
   "id": "985be7f3",
   "metadata": {},
   "source": [
    "### user_log\n"
   ]
  },
  {
   "cell_type": "code",
   "execution_count": null,
   "id": "ab583239",
   "metadata": {},
   "outputs": [],
   "source": [
    "user_log.isna().sum()"
   ]
  },
  {
   "cell_type": "markdown",
   "id": "a0c3537b",
   "metadata": {},
   "source": [
    "# 觀察數據分佈"
   ]
  },
  {
   "cell_type": "markdown",
   "id": "e5b90ae3",
   "metadata": {},
   "source": [
    "## user_info describe"
   ]
  },
  {
   "cell_type": "code",
   "execution_count": null,
   "id": "2f4a2bf2",
   "metadata": {},
   "outputs": [],
   "source": [
    "user_info.describe()"
   ]
  },
  {
   "cell_type": "markdown",
   "id": "2c64d6cc",
   "metadata": {},
   "source": [
    "## user_log describe"
   ]
  },
  {
   "cell_type": "code",
   "execution_count": null,
   "id": "476a1d03",
   "metadata": {},
   "outputs": [],
   "source": [
    "user_log.describe()"
   ]
  },
  {
   "cell_type": "markdown",
   "id": "2348b6c8",
   "metadata": {},
   "source": [
    "## train label"
   ]
  },
  {
   "cell_type": "code",
   "execution_count": null,
   "id": "47effaf2",
   "metadata": {},
   "outputs": [],
   "source": [
    "label_gp = train_data.groupby('label')['user_id'].count()\n",
    "print(\"正負樣本的數量:\\n\",label_gp )\n",
    "\n",
    "# 圓餅圖和長條圖\n",
    "_,axe = plt.subplots(1,2,figsize=(12,6))\n",
    "train_data.label.value_counts().plot(kind='pie',autopct='%1.1f%%',shadow=True,explode=[0,0.1],ax=axe[0])\n",
    "sns.countplot('label',data=train_data,ax=axe[1],)\n",
    "\n",
    "#將訓練集資料正負樣本圓餅圖\n",
    "train_data.label.value_counts().plot(kind='pie',autopct='%1.1f%%',shadow=True,explode=[0,0.1],ax=axe[0])\n",
    "\n",
    "#訓練集資料正負樣本長條圖\n",
    "sns.countplot('label',data=train_data,ax=axe[1],)\n"
   ]
  },
  {
   "cell_type": "code",
   "execution_count": null,
   "id": "fea406b6",
   "metadata": {},
   "outputs": [],
   "source": []
  },
  {
   "cell_type": "code",
   "execution_count": null,
   "id": "994a80a1",
   "metadata": {},
   "outputs": [],
   "source": []
  },
  {
   "cell_type": "code",
   "execution_count": null,
   "id": "1107276a",
   "metadata": {},
   "outputs": [],
   "source": []
  },
  {
   "cell_type": "code",
   "execution_count": null,
   "id": "3e2cf9b4",
   "metadata": {},
   "outputs": [],
   "source": []
  },
  {
   "cell_type": "markdown",
   "id": "7bc6c719",
   "metadata": {},
   "source": [
    "# 探索影響購買的各種因素"
   ]
  },
  {
   "cell_type": "markdown",
   "id": "a1ee49fd",
   "metadata": {},
   "source": [
    "## 不同店家因素的影響"
   ]
  },
  {
   "cell_type": "code",
   "execution_count": null,
   "id": "b080e8e6",
   "metadata": {},
   "outputs": [],
   "source": [
    "train_data_merchant = train_data.copy()\n",
    "train_data_merchant['TOP5'] = train_data_merchant['merchant_id'].map(\n",
    "    lambda x: 1 if x in [4044,3828,4173,1102,4976] else 0)\n",
    "\n",
    "train_data_merchant = train_data_merchant[train_data_merchant['TOP5']==1]\n",
    "\n",
    "plt.figure(figsize=(8,6))\n",
    "plt.title('Merchant VS Label')\n",
    "ax = sns.countplot('merchant_id',hue='label',data=train_data_merchant)\n",
    "\n",
    "for p in ax.patches:\n",
    "    height = p.get_height()\n",
    "\n",
    "\n"
   ]
  },
  {
   "cell_type": "code",
   "execution_count": null,
   "id": "30d9fb21",
   "metadata": {},
   "outputs": [],
   "source": [
    "group_by_merchant_label = train_data.groupby(['merchant_id'])['label'].mean()\n",
    "\n",
    "merchant_repeat_buy = [ rate for rate in train_data.groupby(['merchant_id'])['label'].mean() if rate <= 1 and rate > 0] \n",
    "\n",
    "plt.figure(figsize=(8,4))\n",
    "ax=plt.subplot(1,2,1)\n",
    "sns.distplot(merchant_repeat_buy, fit=stats.norm)\n",
    "\n",
    "ax=plt.subplot(1,2,2)\n",
    "res = stats.probplot(merchant_repeat_buy, plot=plt)\n"
   ]
  },
  {
   "cell_type": "code",
   "execution_count": null,
   "id": "7184b2cd",
   "metadata": {},
   "outputs": [],
   "source": []
  },
  {
   "cell_type": "markdown",
   "id": "5a2c624c",
   "metadata": {},
   "source": [
    "## 使用者性別的影響"
   ]
  },
  {
   "cell_type": "code",
   "execution_count": null,
   "id": "f867d385",
   "metadata": {},
   "outputs": [],
   "source": [
    "train_data_user_info = train_data.merge(user_info,on=['user_id'],how='left')\n",
    "\n",
    "plt.figure(figsize=(8,4))\n",
    "plt.title('Gender  VS Label')\n",
    "ax = sns.countplot('gender',hue='label',data=train_data_user_info)\n",
    "for p in ax.patches:\n",
    "    height = p.get_height()"
   ]
  },
  {
   "cell_type": "code",
   "execution_count": null,
   "id": "efca621d",
   "metadata": {},
   "outputs": [],
   "source": [
    "gender_repeat_buy_label = train_data_user_info.groupby(['gender'])['label'].mean()\n",
    "gender_repeat_buy = [ rate for rate in train_data_user_info.groupby(['gender'])['label'].mean()] \n",
    "\n",
    "\n",
    "plt.figure(figsize=(8,4))\n",
    "ax=plt.subplot(1,2,1)\n",
    "sns.distplot(repeat_buy, fit=stats.norm)\n",
    "\n",
    "ax=plt.subplot(1,2,2)\n",
    "res = stats.probplot(gender_repeat_buy, plot=plt)\n"
   ]
  },
  {
   "cell_type": "code",
   "execution_count": null,
   "id": "ff29a609",
   "metadata": {},
   "outputs": [],
   "source": []
  },
  {
   "cell_type": "markdown",
   "id": "707ec42a",
   "metadata": {},
   "source": [
    "## 使用者年紀的影響"
   ]
  },
  {
   "cell_type": "code",
   "execution_count": null,
   "id": "28fcd3c2",
   "metadata": {},
   "outputs": [],
   "source": [
    "age_repeat_buy_label = train_data_user_info.groupby(['age_range'])['label'].mean()\n",
    "age_repeat_buy = [ rate for rate in train_data_user_info.groupby(['age_range'])['label'].mean()] \n"
   ]
  },
  {
   "cell_type": "code",
   "execution_count": null,
   "id": "8d2c679c",
   "metadata": {},
   "outputs": [],
   "source": [
    "plt.figure(figsize=(8,4))\n",
    "ax=plt.subplot(1,2,1)\n",
    "sns.distplot(age_repeat_buy, fit=stats.norm)\n",
    "\n",
    "ax=plt.subplot(1,2,2)\n",
    "res = stats.probplot(age_repeat_buy, plot=plt)\n"
   ]
  },
  {
   "cell_type": "markdown",
   "id": "94bf683a",
   "metadata": {},
   "source": [
    "## 重複購買使用者的分佈狀況"
   ]
  },
  {
   "cell_type": "code",
   "execution_count": null,
   "id": "f4569463",
   "metadata": {},
   "outputs": [],
   "source": [
    "group_by_user_label = train_data.groupby(['user_id'])['label'].mean()\n",
    "user_repeat_buy = [ rate for rate in train_data.groupby(['user_id'])['label'].mean() if rate <= 1 and rate > 0] \n",
    "\n",
    "plt.figure(figsize=(8,4))\n",
    "ax=plt.subplot(1,2,1)\n",
    "sns.distplot(user_repeat_buy, fit=stats.norm)\n",
    "\n",
    "ax=plt.subplot(1,2,2)\n",
    "res = stats.probplot(user_repeat_buy, plot=plt)\n",
    "\n"
   ]
  },
  {
   "cell_type": "code",
   "execution_count": null,
   "id": "d7a1ecb2",
   "metadata": {},
   "outputs": [],
   "source": []
  }
 ],
 "metadata": {
  "kernelspec": {
   "display_name": "Python 3",
   "language": "python",
   "name": "python3"
  },
  "language_info": {
   "codemirror_mode": {
    "name": "ipython",
    "version": 3
   },
   "file_extension": ".py",
   "mimetype": "text/x-python",
   "name": "python",
   "nbconvert_exporter": "python",
   "pygments_lexer": "ipython3",
   "version": "3.7.6"
  },
  "toc": {
   "base_numbering": 1,
   "nav_menu": {},
   "number_sections": true,
   "sideBar": true,
   "skip_h1_title": false,
   "title_cell": "Table of Contents",
   "title_sidebar": "Contents",
   "toc_cell": false,
   "toc_position": {},
   "toc_section_display": true,
   "toc_window_display": true
  }
 },
 "nbformat": 4,
 "nbformat_minor": 5
}
